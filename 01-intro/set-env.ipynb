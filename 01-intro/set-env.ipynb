{
 "cells": [
  {
   "cell_type": "code",
   "execution_count": 3,
   "id": "a7374075-3183-4f55-b167-1c06cb829e65",
   "metadata": {},
   "outputs": [],
   "source": [
    "from openai import OpenAI\n",
    "from dotenv import load_dotenv, find_dotenv\n",
    "import os\n",
    "\n",
    "_ = load_dotenv(find_dotenv())  # read local .env file"
   ]
  },
  {
   "cell_type": "code",
   "execution_count": 6,
   "id": "549ae259",
   "metadata": {},
   "outputs": [],
   "source": [
    "#os.environ"
   ]
  },
  {
   "cell_type": "code",
   "execution_count": 4,
   "id": "048dad16-0406-4d3e-a5cd-c2e03bbd23ec",
   "metadata": {},
   "outputs": [],
   "source": [
    "client = OpenAI(api_key=os.getenv(\"OPENAI_API_KEY\"))"
   ]
  },
  {
   "cell_type": "code",
   "execution_count": 8,
   "id": "12160540-65ec-43c2-b9f0-ca713a42fec5",
   "metadata": {},
   "outputs": [],
   "source": [
    "response = client.chat.completions.create(\n",
    "    model=\"gpt-4o\",\n",
    "    messages=[{\"role\": \"user\", \"content\": \"Is it too late to join the course\"}],\n",
    ")"
   ]
  },
  {
   "cell_type": "code",
   "execution_count": 9,
   "id": "b2287030",
   "metadata": {},
   "outputs": [
    {
     "data": {
      "text/plain": [
       "\"Whether it is too late to join a course depends on several factors, including the course's start date, enrollment deadlines, and the specific policies of the institution or platform offering the course. Here are a few things you can consider:\\n\\n1. **Enrollment Deadlines**: Check if the course has a specific enrollment deadline. Many institutions and online platforms have cut-off dates for registration.\\n\\n2. **Course Start Date**: Determine when the course began. If it's only a few sessions in, you might still be able to catch up. However, if a significant portion has already been covered, joining late could put you at a disadvantage.\\n\\n3. **Instructor's Policies**: Some instructors may allow late entries, especially if you can demonstrate a strong interest and capacity to catch up quickly.\\n\\n4. **Course Format**:\\n   - **Self-Paced**: If the course is self-paced, joining late is usually not an issue as you can progress through the material at your own speed.\\n   - **Scheduled Classes**: For courses with set schedules and live sessions, it might be more challenging to join late.\\n\\n5. **Availability of Resources**: Check if you can access previous lectures, materials, and assignments. Having access to these resources will be crucial for catching up.\\n\\n6. **Communication**: Contact the course administrator or instructor directly to inquire about the possibility of late enrollment and any steps you might need to take.\\n\\n7. **Waitlists**: Some courses offer waitlists for latecomers, which might allow you to join if a spot opens up.\\n\\nTaking these factors into account will help you determine if you can still join the course and what steps you might need to take.\""
      ]
     },
     "execution_count": 9,
     "metadata": {},
     "output_type": "execute_result"
    }
   ],
   "source": [
    "response.choices[0].message.content"
   ]
  },
  {
   "cell_type": "code",
   "execution_count": null,
   "id": "9f2f563e",
   "metadata": {},
   "outputs": [],
   "source": []
  }
 ],
 "metadata": {
  "kernelspec": {
   "display_name": "Python 3 (ipykernel)",
   "language": "python",
   "name": "python3"
  },
  "language_info": {
   "codemirror_mode": {
    "name": "ipython",
    "version": 3
   },
   "file_extension": ".py",
   "mimetype": "text/x-python",
   "name": "python",
   "nbconvert_exporter": "python",
   "pygments_lexer": "ipython3",
   "version": "3.10.13"
  }
 },
 "nbformat": 4,
 "nbformat_minor": 5
}
